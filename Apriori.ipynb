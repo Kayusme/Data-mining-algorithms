{
 "cells": [
  {
   "cell_type": "code",
   "execution_count": 31,
   "metadata": {
    "collapsed": true
   },
   "outputs": [],
   "source": [
    "import pandas as pd\n",
    "import numpy as np\n",
    "from itertools import combinations"
   ]
  },
  {
   "cell_type": "code",
   "execution_count": 32,
   "metadata": {
    "collapsed": true
   },
   "outputs": [],
   "source": [
    "data=pd.read_csv('/home/root123/Documents/semester-3/Data mining/codes/apriori/apriori1.csv')"
   ]
  },
  {
   "cell_type": "markdown",
   "metadata": {},
   "source": [
    "# Dataset"
   ]
  },
  {
   "cell_type": "code",
   "execution_count": 33,
   "metadata": {},
   "outputs": [
    {
     "data": {
      "text/html": [
       "<div>\n",
       "<style scoped>\n",
       "    .dataframe tbody tr th:only-of-type {\n",
       "        vertical-align: middle;\n",
       "    }\n",
       "\n",
       "    .dataframe tbody tr th {\n",
       "        vertical-align: top;\n",
       "    }\n",
       "\n",
       "    .dataframe thead th {\n",
       "        text-align: right;\n",
       "    }\n",
       "</style>\n",
       "<table border=\"1\" class=\"dataframe\">\n",
       "  <thead>\n",
       "    <tr style=\"text-align: right;\">\n",
       "      <th></th>\n",
       "      <th>id</th>\n",
       "      <th>items</th>\n",
       "    </tr>\n",
       "  </thead>\n",
       "  <tbody>\n",
       "    <tr>\n",
       "      <th>0</th>\n",
       "      <td>1</td>\n",
       "      <td>M,O,N,K,E,Y</td>\n",
       "    </tr>\n",
       "    <tr>\n",
       "      <th>1</th>\n",
       "      <td>2</td>\n",
       "      <td>D,O,N,K,E,Y</td>\n",
       "    </tr>\n",
       "    <tr>\n",
       "      <th>2</th>\n",
       "      <td>3</td>\n",
       "      <td>M,A,K,E</td>\n",
       "    </tr>\n",
       "    <tr>\n",
       "      <th>3</th>\n",
       "      <td>4</td>\n",
       "      <td>M,U,C,K,Y</td>\n",
       "    </tr>\n",
       "    <tr>\n",
       "      <th>4</th>\n",
       "      <td>5</td>\n",
       "      <td>C,O,K,I,E</td>\n",
       "    </tr>\n",
       "  </tbody>\n",
       "</table>\n",
       "</div>"
      ],
      "text/plain": [
       "   id        items\n",
       "0   1  M,O,N,K,E,Y\n",
       "1   2  D,O,N,K,E,Y\n",
       "2   3      M,A,K,E\n",
       "3   4    M,U,C,K,Y\n",
       "4   5    C,O,K,I,E"
      ]
     },
     "execution_count": 33,
     "metadata": {},
     "output_type": "execute_result"
    }
   ],
   "source": [
    "data"
   ]
  },
  {
   "cell_type": "markdown",
   "metadata": {},
   "source": [
    "# Combinations of sets"
   ]
  },
  {
   "cell_type": "code",
   "execution_count": 34,
   "metadata": {
    "collapsed": true
   },
   "outputs": [],
   "source": [
    "def combination(dataset,n):\n",
    "    s=[]\n",
    "    for i in range(dataset.shape[0]):\n",
    "        s.append([\"\".join(map(str, comb)) for comb in combinations(dataset[\"items\"][i].split(','), n)])\n",
    "    return(s)"
   ]
  },
  {
   "cell_type": "code",
   "execution_count": 35,
   "metadata": {},
   "outputs": [
    {
     "data": {
      "text/html": [
       "<div>\n",
       "<style scoped>\n",
       "    .dataframe tbody tr th:only-of-type {\n",
       "        vertical-align: middle;\n",
       "    }\n",
       "\n",
       "    .dataframe tbody tr th {\n",
       "        vertical-align: top;\n",
       "    }\n",
       "\n",
       "    .dataframe thead th {\n",
       "        text-align: right;\n",
       "    }\n",
       "</style>\n",
       "<table border=\"1\" class=\"dataframe\">\n",
       "  <thead>\n",
       "    <tr style=\"text-align: right;\">\n",
       "      <th></th>\n",
       "      <th>id</th>\n",
       "      <th>items</th>\n",
       "      <th>one</th>\n",
       "      <th>two</th>\n",
       "      <th>three</th>\n",
       "      <th>four</th>\n",
       "    </tr>\n",
       "  </thead>\n",
       "  <tbody>\n",
       "    <tr>\n",
       "      <th>0</th>\n",
       "      <td>1</td>\n",
       "      <td>M,O,N,K,E,Y</td>\n",
       "      <td>[M, O, N, K, E, Y]</td>\n",
       "      <td>[MO, MN, MK, ME, MY, ON, OK, OE, OY, NK, NE, N...</td>\n",
       "      <td>[MON, MOK, MOE, MOY, MNK, MNE, MNY, MKE, MKY, ...</td>\n",
       "      <td>[MONK, MONE, MONY, MOKE, MOKY, MOEY, MNKE, MNK...</td>\n",
       "    </tr>\n",
       "    <tr>\n",
       "      <th>1</th>\n",
       "      <td>2</td>\n",
       "      <td>D,O,N,K,E,Y</td>\n",
       "      <td>[D, O, N, K, E, Y]</td>\n",
       "      <td>[DO, DN, DK, DE, DY, ON, OK, OE, OY, NK, NE, N...</td>\n",
       "      <td>[DON, DOK, DOE, DOY, DNK, DNE, DNY, DKE, DKY, ...</td>\n",
       "      <td>[DONK, DONE, DONY, DOKE, DOKY, DOEY, DNKE, DNK...</td>\n",
       "    </tr>\n",
       "    <tr>\n",
       "      <th>2</th>\n",
       "      <td>3</td>\n",
       "      <td>M,A,K,E</td>\n",
       "      <td>[M, A, K, E]</td>\n",
       "      <td>[MA, MK, ME, AK, AE, KE]</td>\n",
       "      <td>[MAK, MAE, MKE, AKE]</td>\n",
       "      <td>[MAKE]</td>\n",
       "    </tr>\n",
       "    <tr>\n",
       "      <th>3</th>\n",
       "      <td>4</td>\n",
       "      <td>M,U,C,K,Y</td>\n",
       "      <td>[M, U, C, K, Y]</td>\n",
       "      <td>[MU, MC, MK, MY, UC, UK, UY, CK, CY, KY]</td>\n",
       "      <td>[MUC, MUK, MUY, MCK, MCY, MKY, UCK, UCY, UKY, ...</td>\n",
       "      <td>[MUCK, MUCY, MUKY, MCKY, UCKY]</td>\n",
       "    </tr>\n",
       "    <tr>\n",
       "      <th>4</th>\n",
       "      <td>5</td>\n",
       "      <td>C,O,K,I,E</td>\n",
       "      <td>[C, O, K, I, E]</td>\n",
       "      <td>[CO, CK, CI, CE, OK, OI, OE, KI, KE, IE]</td>\n",
       "      <td>[COK, COI, COE, CKI, CKE, CIE, OKI, OKE, OIE, ...</td>\n",
       "      <td>[COKI, COKE, COIE, CKIE, OKIE]</td>\n",
       "    </tr>\n",
       "  </tbody>\n",
       "</table>\n",
       "</div>"
      ],
      "text/plain": [
       "   id        items                 one  \\\n",
       "0   1  M,O,N,K,E,Y  [M, O, N, K, E, Y]   \n",
       "1   2  D,O,N,K,E,Y  [D, O, N, K, E, Y]   \n",
       "2   3      M,A,K,E        [M, A, K, E]   \n",
       "3   4    M,U,C,K,Y     [M, U, C, K, Y]   \n",
       "4   5    C,O,K,I,E     [C, O, K, I, E]   \n",
       "\n",
       "                                                 two  \\\n",
       "0  [MO, MN, MK, ME, MY, ON, OK, OE, OY, NK, NE, N...   \n",
       "1  [DO, DN, DK, DE, DY, ON, OK, OE, OY, NK, NE, N...   \n",
       "2                           [MA, MK, ME, AK, AE, KE]   \n",
       "3           [MU, MC, MK, MY, UC, UK, UY, CK, CY, KY]   \n",
       "4           [CO, CK, CI, CE, OK, OI, OE, KI, KE, IE]   \n",
       "\n",
       "                                               three  \\\n",
       "0  [MON, MOK, MOE, MOY, MNK, MNE, MNY, MKE, MKY, ...   \n",
       "1  [DON, DOK, DOE, DOY, DNK, DNE, DNY, DKE, DKY, ...   \n",
       "2                               [MAK, MAE, MKE, AKE]   \n",
       "3  [MUC, MUK, MUY, MCK, MCY, MKY, UCK, UCY, UKY, ...   \n",
       "4  [COK, COI, COE, CKI, CKE, CIE, OKI, OKE, OIE, ...   \n",
       "\n",
       "                                                four  \n",
       "0  [MONK, MONE, MONY, MOKE, MOKY, MOEY, MNKE, MNK...  \n",
       "1  [DONK, DONE, DONY, DOKE, DOKY, DOEY, DNKE, DNK...  \n",
       "2                                             [MAKE]  \n",
       "3                     [MUCK, MUCY, MUKY, MCKY, UCKY]  \n",
       "4                     [COKI, COKE, COIE, CKIE, OKIE]  "
      ]
     },
     "execution_count": 35,
     "metadata": {},
     "output_type": "execute_result"
    }
   ],
   "source": [
    "data['one']=combination(data,1)\n",
    "data['two']=combination(data,2)\n",
    "data['three']=combination(data,3)\n",
    "data['four']=combination(data,4)\n",
    "data"
   ]
  },
  {
   "cell_type": "markdown",
   "metadata": {},
   "source": [
    "# Frequency count sets(L)"
   ]
  },
  {
   "cell_type": "code",
   "execution_count": 36,
   "metadata": {
    "collapsed": true
   },
   "outputs": [],
   "source": [
    "def L(n,dataset):\n",
    "  single=[]\n",
    "  sets={}\n",
    "  for i in dataset.iloc[0:,n]:\n",
    "      for j in i:\n",
    "          single.append(j)\n",
    "  key=np.unique(single)\n",
    "  val,counts = np.unique(single, return_counts=True)\n",
    "  for i in range(counts.shape[0]):\n",
    "     sets[key[i]]=counts[i]\n",
    "  return(sets)"
   ]
  },
  {
   "cell_type": "code",
   "execution_count": 37,
   "metadata": {
    "collapsed": true
   },
   "outputs": [],
   "source": [
    "L1=L(2,data)\n",
    "L2=L(3,data)\n",
    "L3=L(4,data)\n",
    "L4=L(5,data)"
   ]
  },
  {
   "cell_type": "code",
   "execution_count": 38,
   "metadata": {},
   "outputs": [
    {
     "data": {
      "text/plain": [
       "{'A': 1,\n",
       " 'C': 2,\n",
       " 'D': 1,\n",
       " 'E': 4,\n",
       " 'I': 1,\n",
       " 'K': 5,\n",
       " 'M': 3,\n",
       " 'N': 2,\n",
       " 'O': 3,\n",
       " 'U': 1,\n",
       " 'Y': 3}"
      ]
     },
     "execution_count": 38,
     "metadata": {},
     "output_type": "execute_result"
    }
   ],
   "source": [
    "L1"
   ]
  },
  {
   "cell_type": "code",
   "execution_count": 39,
   "metadata": {},
   "outputs": [
    {
     "data": {
      "text/plain": [
       "{'AE': 1,\n",
       " 'AK': 1,\n",
       " 'CE': 1,\n",
       " 'CI': 1,\n",
       " 'CK': 2,\n",
       " 'CO': 1,\n",
       " 'CY': 1,\n",
       " 'DE': 1,\n",
       " 'DK': 1,\n",
       " 'DN': 1,\n",
       " 'DO': 1,\n",
       " 'DY': 1,\n",
       " 'EY': 2,\n",
       " 'IE': 1,\n",
       " 'KE': 4,\n",
       " 'KI': 1,\n",
       " 'KY': 3,\n",
       " 'MA': 1,\n",
       " 'MC': 1,\n",
       " 'ME': 2,\n",
       " 'MK': 3,\n",
       " 'MN': 1,\n",
       " 'MO': 1,\n",
       " 'MU': 1,\n",
       " 'MY': 2,\n",
       " 'NE': 2,\n",
       " 'NK': 2,\n",
       " 'NY': 2,\n",
       " 'OE': 3,\n",
       " 'OI': 1,\n",
       " 'OK': 3,\n",
       " 'ON': 2,\n",
       " 'OY': 2,\n",
       " 'UC': 1,\n",
       " 'UK': 1,\n",
       " 'UY': 1}"
      ]
     },
     "execution_count": 39,
     "metadata": {},
     "output_type": "execute_result"
    }
   ],
   "source": [
    "L2"
   ]
  },
  {
   "cell_type": "code",
   "execution_count": 40,
   "metadata": {},
   "outputs": [
    {
     "data": {
      "text/plain": [
       "{'AKE': 1,\n",
       " 'CIE': 1,\n",
       " 'CKE': 1,\n",
       " 'CKI': 1,\n",
       " 'CKY': 1,\n",
       " 'COE': 1,\n",
       " 'COI': 1,\n",
       " 'COK': 1,\n",
       " 'DEY': 1,\n",
       " 'DKE': 1,\n",
       " 'DKY': 1,\n",
       " 'DNE': 1,\n",
       " 'DNK': 1,\n",
       " 'DNY': 1,\n",
       " 'DOE': 1,\n",
       " 'DOK': 1,\n",
       " 'DON': 1,\n",
       " 'DOY': 1,\n",
       " 'KEY': 2,\n",
       " 'KIE': 1,\n",
       " 'MAE': 1,\n",
       " 'MAK': 1,\n",
       " 'MCK': 1,\n",
       " 'MCY': 1,\n",
       " 'MEY': 1,\n",
       " 'MKE': 2,\n",
       " 'MKY': 2,\n",
       " 'MNE': 1,\n",
       " 'MNK': 1,\n",
       " 'MNY': 1,\n",
       " 'MOE': 1,\n",
       " 'MOK': 1,\n",
       " 'MON': 1,\n",
       " 'MOY': 1,\n",
       " 'MUC': 1,\n",
       " 'MUK': 1,\n",
       " 'MUY': 1,\n",
       " 'NEY': 2,\n",
       " 'NKE': 2,\n",
       " 'NKY': 2,\n",
       " 'OEY': 2,\n",
       " 'OIE': 1,\n",
       " 'OKE': 3,\n",
       " 'OKI': 1,\n",
       " 'OKY': 2,\n",
       " 'ONE': 2,\n",
       " 'ONK': 2,\n",
       " 'ONY': 2,\n",
       " 'UCK': 1,\n",
       " 'UCY': 1,\n",
       " 'UKY': 1}"
      ]
     },
     "execution_count": 40,
     "metadata": {},
     "output_type": "execute_result"
    }
   ],
   "source": [
    "L3"
   ]
  },
  {
   "cell_type": "code",
   "execution_count": 41,
   "metadata": {},
   "outputs": [
    {
     "data": {
      "text/plain": [
       "{'CKIE': 1,\n",
       " 'COIE': 1,\n",
       " 'COKE': 1,\n",
       " 'COKI': 1,\n",
       " 'DKEY': 1,\n",
       " 'DNEY': 1,\n",
       " 'DNKE': 1,\n",
       " 'DNKY': 1,\n",
       " 'DOEY': 1,\n",
       " 'DOKE': 1,\n",
       " 'DOKY': 1,\n",
       " 'DONE': 1,\n",
       " 'DONK': 1,\n",
       " 'DONY': 1,\n",
       " 'MAKE': 1,\n",
       " 'MCKY': 1,\n",
       " 'MKEY': 1,\n",
       " 'MNEY': 1,\n",
       " 'MNKE': 1,\n",
       " 'MNKY': 1,\n",
       " 'MOEY': 1,\n",
       " 'MOKE': 1,\n",
       " 'MOKY': 1,\n",
       " 'MONE': 1,\n",
       " 'MONK': 1,\n",
       " 'MONY': 1,\n",
       " 'MUCK': 1,\n",
       " 'MUCY': 1,\n",
       " 'MUKY': 1,\n",
       " 'NKEY': 2,\n",
       " 'OKEY': 2,\n",
       " 'OKIE': 1,\n",
       " 'ONEY': 2,\n",
       " 'ONKE': 2,\n",
       " 'ONKY': 2,\n",
       " 'UCKY': 1}"
      ]
     },
     "execution_count": 41,
     "metadata": {},
     "output_type": "execute_result"
    }
   ],
   "source": [
    "L4"
   ]
  },
  {
   "cell_type": "code",
   "execution_count": 42,
   "metadata": {
    "collapsed": true
   },
   "outputs": [],
   "source": [
    "minimum_count=3"
   ]
  },
  {
   "cell_type": "markdown",
   "metadata": {},
   "source": [
    "# Candidates sets (C)"
   ]
  },
  {
   "cell_type": "code",
   "execution_count": 43,
   "metadata": {
    "collapsed": true
   },
   "outputs": [],
   "source": [
    "def candidate_sets(L):\n",
    "  candidate_set={}\n",
    "  keys=[]\n",
    "  for i in L.items():\n",
    "      if i[1]>=minimum_count:\n",
    "         candidate_set.update([i]) \n",
    "         keys.append(i[0])\n",
    "  return candidate_set"
   ]
  },
  {
   "cell_type": "code",
   "execution_count": 44,
   "metadata": {
    "collapsed": true
   },
   "outputs": [],
   "source": [
    "C1=candidate_sets(L1)\n",
    "C2=candidate_sets(L2)\n",
    "C3=candidate_sets(L3)\n",
    "C4=candidate_sets(L4)"
   ]
  },
  {
   "cell_type": "code",
   "execution_count": 45,
   "metadata": {},
   "outputs": [
    {
     "data": {
      "text/plain": [
       "{'E': 4, 'K': 5, 'M': 3, 'O': 3, 'Y': 3}"
      ]
     },
     "execution_count": 45,
     "metadata": {},
     "output_type": "execute_result"
    }
   ],
   "source": [
    "C1"
   ]
  },
  {
   "cell_type": "code",
   "execution_count": 46,
   "metadata": {},
   "outputs": [
    {
     "data": {
      "text/plain": [
       "{'KE': 4, 'KY': 3, 'MK': 3, 'OE': 3, 'OK': 3}"
      ]
     },
     "execution_count": 46,
     "metadata": {},
     "output_type": "execute_result"
    }
   ],
   "source": [
    "C2"
   ]
  },
  {
   "cell_type": "markdown",
   "metadata": {},
   "source": [
    "# Most frequent set"
   ]
  },
  {
   "cell_type": "code",
   "execution_count": 47,
   "metadata": {},
   "outputs": [
    {
     "data": {
      "text/plain": [
       "{'OKE': 3}"
      ]
     },
     "execution_count": 47,
     "metadata": {},
     "output_type": "execute_result"
    }
   ],
   "source": [
    "C3"
   ]
  },
  {
   "cell_type": "code",
   "execution_count": null,
   "metadata": {
    "collapsed": true
   },
   "outputs": [],
   "source": []
  }
 ],
 "metadata": {
  "kernelspec": {
   "display_name": "Python 3",
   "language": "python",
   "name": "python3"
  },
  "language_info": {
   "codemirror_mode": {
    "name": "ipython",
    "version": 3
   },
   "file_extension": ".py",
   "mimetype": "text/x-python",
   "name": "python",
   "nbconvert_exporter": "python",
   "pygments_lexer": "ipython3",
   "version": "3.6.3"
  }
 },
 "nbformat": 4,
 "nbformat_minor": 2
}
