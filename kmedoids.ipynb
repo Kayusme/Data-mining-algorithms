{
 "cells": [
  {
   "cell_type": "code",
   "execution_count": 197,
   "metadata": {
    "collapsed": true
   },
   "outputs": [],
   "source": [
    "import pandas as pd\n",
    "import numpy as np\n",
    "import random"
   ]
  },
  {
   "cell_type": "markdown",
   "metadata": {},
   "source": [
    "# Dataset"
   ]
  },
  {
   "cell_type": "code",
   "execution_count": 198,
   "metadata": {
    "collapsed": true
   },
   "outputs": [],
   "source": [
    "dataset=pd.read_csv('/home/root123/Documents/semester-3/Data mining/codes/kmedoids/kmedoids.csv')"
   ]
  },
  {
   "cell_type": "code",
   "execution_count": 199,
   "metadata": {
    "collapsed": true
   },
   "outputs": [],
   "source": [
    "matrix=np.matrix(dataset.T)"
   ]
  },
  {
   "cell_type": "code",
   "execution_count": 200,
   "metadata": {},
   "outputs": [
    {
     "data": {
      "text/plain": [
       "matrix([[2, 6],\n",
       "        [3, 4],\n",
       "        [3, 8],\n",
       "        [5, 7],\n",
       "        [6, 2],\n",
       "        [6, 4],\n",
       "        [7, 3],\n",
       "        [7, 4],\n",
       "        [8, 5],\n",
       "        [7, 6]])"
      ]
     },
     "execution_count": 200,
     "metadata": {},
     "output_type": "execute_result"
    }
   ],
   "source": [
    "matrix"
   ]
  },
  {
   "cell_type": "markdown",
   "metadata": {},
   "source": [
    "# Distance matrix"
   ]
  },
  {
   "cell_type": "code",
   "execution_count": 205,
   "metadata": {
    "collapsed": true
   },
   "outputs": [],
   "source": [
    "def dist_mat(numof_k):\n",
    "    distance_matrix_old= np.zeros((matrix.shape[0],numof_k))\n",
    "    k = np.random.randint(matrix.shape[0], size=numof_k)\n",
    "    for i in range(len(k)):\n",
    "        for j in range(matrix.shape[0]):\n",
    "            distance_matrix_old[j,i] = np.sum(abs(matrix[j,0:]-matrix[k[i],:]))\n",
    "    return(distance_matrix_old)"
   ]
  },
  {
   "cell_type": "code",
   "execution_count": 206,
   "metadata": {},
   "outputs": [
    {
     "data": {
      "text/plain": [
       "array([[5., 6., 7.],\n",
       "       [6., 3., 6.],\n",
       "       [6., 7., 8.],\n",
       "       [3., 4., 5.],\n",
       "       [5., 2., 5.],\n",
       "       [3., 0., 3.],\n",
       "       [3., 2., 3.],\n",
       "       [2., 1., 2.],\n",
       "       [2., 3., 0.],\n",
       "       [0., 3., 2.]])"
      ]
     },
     "execution_count": 206,
     "metadata": {},
     "output_type": "execute_result"
    }
   ],
   "source": [
    "x=dist_mat(3)\n",
    "x"
   ]
  },
  {
   "cell_type": "code",
   "execution_count": 207,
   "metadata": {
    "collapsed": true
   },
   "outputs": [],
   "source": [
    "def clusters(dist_mat):\n",
    "    minimum=[]\n",
    "    clust=[]\n",
    "    for i in range(dist_mat.shape[1]):\n",
    "         clust.append([])\n",
    "    for i in range(dist_mat.shape[0]):\n",
    "        for j in range(dist_mat.shape[1]):\n",
    "            if min(dist_mat[i])==dist_mat[i,j]:\n",
    "                minimum.append(min(dist_mat[i]))\n",
    "                clust[j].append(dist_mat[i])\n",
    "    return(clust,minimum)"
   ]
  },
  {
   "cell_type": "code",
   "execution_count": 208,
   "metadata": {},
   "outputs": [],
   "source": [
    "old_min_value=cluster(x)[1]"
   ]
  },
  {
   "cell_type": "markdown",
   "metadata": {},
   "source": [
    "# k-medoids"
   ]
  },
  {
   "cell_type": "code",
   "execution_count": 211,
   "metadata": {},
   "outputs": [],
   "source": [
    "def kmedoids(numof_k,n):\n",
    "    distance_matrix_new= np.zeros((matrix.shape[0],numof_k))\n",
    "    k = np.random.randint(matrix.shape[0], size=numof_k)\n",
    "    list2=[i for i in range(matrix.shape[0]) if i not in k]\n",
    "    for iteration in range(n):\n",
    "        for i in range(len(k)):\n",
    "            for j in range(len(list2)):\n",
    "                k[i]=list2[j]\n",
    "                for k_val in range(len(k)):\n",
    "                    for value in range(10):\n",
    "                        distance_matrix_new[value,k_val] = np.sum(abs(matrix[value,0:]-matrix[k[k_val],:]))\n",
    "                        new_min_value=clusters(distance_matrix_new)[1]\n",
    "                        if sum(new_min_value)- sum(old_min_value)<0:\n",
    "                            cluster=clusters(distance_matrix_new)[0]\n",
    "                        else:\n",
    "                            cluster=clusters(x)[0]\n",
    "    return(cluster)"
   ]
  },
  {
   "cell_type": "code",
   "execution_count": 212,
   "metadata": {},
   "outputs": [
    {
     "data": {
      "text/plain": [
       "[[array([5., 6., 7.]),\n",
       "  array([6., 7., 8.]),\n",
       "  array([3., 4., 5.]),\n",
       "  array([0., 3., 2.])],\n",
       " [array([6., 3., 6.]),\n",
       "  array([5., 2., 5.]),\n",
       "  array([3., 0., 3.]),\n",
       "  array([3., 2., 3.]),\n",
       "  array([2., 1., 2.])],\n",
       " [array([2., 3., 0.])]]"
      ]
     },
     "execution_count": 212,
     "metadata": {},
     "output_type": "execute_result"
    }
   ],
   "source": [
    "kmedoids(3,10)"
   ]
  },
  {
   "cell_type": "code",
   "execution_count": null,
   "metadata": {
    "collapsed": true
   },
   "outputs": [],
   "source": []
  }
 ],
 "metadata": {
  "kernelspec": {
   "display_name": "Python 3",
   "language": "python",
   "name": "python3"
  },
  "language_info": {
   "codemirror_mode": {
    "name": "ipython",
    "version": 3
   },
   "file_extension": ".py",
   "mimetype": "text/x-python",
   "name": "python",
   "nbconvert_exporter": "python",
   "pygments_lexer": "ipython3",
   "version": "3.6.9"
  }
 },
 "nbformat": 4,
 "nbformat_minor": 2
}
